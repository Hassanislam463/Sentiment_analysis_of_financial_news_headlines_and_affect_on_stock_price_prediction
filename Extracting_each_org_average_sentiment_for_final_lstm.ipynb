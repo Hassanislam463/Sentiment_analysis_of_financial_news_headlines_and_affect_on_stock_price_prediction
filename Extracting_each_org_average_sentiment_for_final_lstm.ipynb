{
 "cells": [
  {
   "cell_type": "markdown",
   "metadata": {},
   "source": []
  },
  {
   "cell_type": "code",
   "execution_count": 1,
   "metadata": {},
   "outputs": [
    {
     "name": "stdout",
     "output_type": "stream",
     "text": [
      "Sentiment files have been processed and saved.\n"
     ]
    }
   ],
   "source": [
    "import pandas as pd\n",
    "import ast\n",
    "import os\n",
    "\n",
    "# Load the dataset\n",
    "file_path = r\"D:\\FINAL_DATA_FILES\\final_normalized_sentiment.csv\"   \n",
    "df = pd.read_csv(file_path)\n",
    "\n",
    "# Convert the 'entities' column to a list\n",
    "df['entities'] = df['entities'].fillna(\"[]\").apply(ast.literal_eval)\n",
    "\n",
    "# List of organizations to process\n",
    "organizations = ['MSFT']\n",
    "\n",
    "# Specify the directory to save the files\n",
    "save_directory = r\"D:\\FINAL_DATA_FILES\"\n",
    "\n",
    "for org in organizations:\n",
    "    # Filter rows for the current organization\n",
    "    df_org = df[df['entities'].apply(lambda x: any(org in entity for entity in x))]\n",
    "\n",
    "    # Convert 'ts_standardized' to datetime and make a copy to avoid SettingWithCopyWarning\n",
    "    df_org_copy = df_org.copy()\n",
    "    df_org_copy['ts_standardized'] = pd.to_datetime(df_org_copy['ts_standardized'])\n",
    "\n",
    "    # Calculate the mean of normalized sentiment scores\n",
    "    average_sentiment_per_day = df_org_copy.groupby(df_org_copy['ts_standardized'].dt.date)['normalized_sentiment'].mean().reset_index()\n",
    "    average_sentiment_per_day.rename(columns={'ts_standardized': 'ts', 'normalized_sentiment': 'Average_sentiment'}, inplace=True)\n",
    "    average_sentiment_per_day['ORG'] = org\n",
    "\n",
    "    # Convert 'ts' to datetime for consistency\n",
    "    average_sentiment_per_day['ts'] = pd.to_datetime(average_sentiment_per_day['ts'])\n",
    "\n",
    "    # Save the final dataframe for each organization\n",
    "    final_file_path = os.path.join(save_directory, f'final_complete_{org}_sentiment.csv')\n",
    "    average_sentiment_per_day.to_csv(final_file_path, index=False)\n",
    "\n",
    "print(\"Sentiment files have been processed and saved.\")"
   ]
  },
  {
   "cell_type": "code",
   "execution_count": null,
   "metadata": {},
   "outputs": [],
   "source": []
  },
  {
   "attachments": {},
   "cell_type": "markdown",
   "metadata": {},
   "source": [
    "# CODE FOR SAVING AND PROCESSING MULTIPLE ORG AT ONCE JUST CHANG THE ORG SYMBOL"
   ]
  },
  {
   "cell_type": "code",
   "execution_count": 15,
   "metadata": {},
   "outputs": [],
   "source": [
    "import pandas as pd\n",
    "import ast\n",
    "import os\n",
    "\n",
    "# Load the dataset\n",
    "file_path = r\"D:\\FINAL_DATA_FILES\\final_normalized_sentiment.csv\"  \n",
    "df = pd.read_csv(file_path)\n",
    "\n",
    "# Convert the 'entities' column to a list\n",
    "df['entities'] = df['entities'].fillna(\"[]\").apply(ast.literal_eval)\n",
    "\n",
    "# List of organizations to process\n",
    "organizations = ['AAPL', 'AMZN', 'MS']\n",
    "\n",
    "# Specify the directory to save the files\n",
    "save_directory = r\"D:\\FINAL_DATA_FILES\"\n",
    "\n",
    "for org in organizations:\n",
    "    # Filter rows for the current organization\n",
    "    df_org = df[df['entities'].apply(lambda x: any(org in entity for entity in x))]\n",
    "\n",
    "    # Convert 'ts_standardized' to datetime and make a copy to avoid SettingWithCopyWarning\n",
    "    df_org_copy = df_org.copy()\n",
    "    df_org_copy['ts_standardized'] = pd.to_datetime(df_org_copy['ts_standardized'])\n",
    "\n",
    "    # Calculate the mean of normalized sentiment scores\n",
    "    average_sentiment_per_day = df_org_copy.groupby(df_org_copy['ts_standardized'].dt.date)['normalized_sentiment'].mean().reset_index()\n",
    "    average_sentiment_per_day.rename(columns={'ts_standardized': 'ts', 'normalized_sentiment': 'Average_sentiment'}, inplace=True)\n",
    "    average_sentiment_per_day['ORG'] = org\n",
    "\n",
    "    # Generate a complete date range from the first to the last date\n",
    "    start_date = average_sentiment_per_day['ts'].min()\n",
    "    end_date = average_sentiment_per_day['ts'].max()\n",
    "    complete_date_range = pd.date_range(start=start_date, end=end_date)\n",
    "\n",
    "    # Create a new dataframe with the complete date range\n",
    "    complete_dates_df = pd.DataFrame(complete_date_range, columns=['ts'])\n",
    "    complete_dates_df['ORG'] = org\n",
    "    complete_dates_df['Average_sentiment'] = 0.5  # Neutral sentiment\n",
    "\n",
    "    # Ensure data type consistency for merging\n",
    "    average_sentiment_per_day['ts'] = pd.to_datetime(average_sentiment_per_day['ts'])\n",
    "\n",
    "    # Merge and fill missing values\n",
    "    complete_sentiment_df = complete_dates_df.merge(average_sentiment_per_day, on=['ts', 'ORG'], how='left', suffixes=('_default', ''))\n",
    "    complete_sentiment_df['Average_sentiment'] = complete_sentiment_df['Average_sentiment'].fillna(complete_sentiment_df['Average_sentiment_default'])\n",
    "    complete_sentiment_df.drop('Average_sentiment_default', axis=1, inplace=True)\n",
    "\n",
    "    # Save the final dataframe for each organization\n",
    "    final_file_path = os.path.join(save_directory, f'final_complete_{org}_sentiment.csv')\n",
    "    complete_sentiment_df.to_csv(final_file_path, index=False)"
   ]
  },
  {
   "cell_type": "code",
   "execution_count": null,
   "metadata": {},
   "outputs": [],
   "source": []
  }
 ],
 "metadata": {
  "kernelspec": {
   "display_name": "new_env",
   "language": "python",
   "name": "python3"
  },
  "language_info": {
   "codemirror_mode": {
    "name": "ipython",
    "version": 3
   },
   "file_extension": ".py",
   "mimetype": "text/x-python",
   "name": "python",
   "nbconvert_exporter": "python",
   "pygments_lexer": "ipython3",
   "version": "3.11.1"
  },
  "orig_nbformat": 4,
  "vscode": {
   "interpreter": {
    "hash": "3c3bc1cd2787d1d6faf4cadf512276aa1abbcebfa71dc4497537bc0fca99e0e5"
   }
  }
 },
 "nbformat": 4,
 "nbformat_minor": 2
}
