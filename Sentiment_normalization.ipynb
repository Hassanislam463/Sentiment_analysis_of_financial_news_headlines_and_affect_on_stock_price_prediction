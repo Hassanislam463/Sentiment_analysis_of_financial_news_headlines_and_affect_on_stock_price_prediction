{
 "cells": [
  {
   "cell_type": "code",
   "execution_count": 3,
   "metadata": {},
   "outputs": [],
   "source": [
    "import pandas as pd\n",
    "import ast\n",
    "\n",
    "# Load your dataset\n",
    "file_path = r\"C:\\Users\\hassa\\Downloads\\sentiment_final_1.csv\"  \n",
    "df = pd.read_csv(file_path)\n",
    "\n",
    "# Convert the 'predictions' column to integers\n",
    "# The 'predictions' column contains string representations of lists\n",
    "df['predictions'] = df['predictions'].apply(lambda x: ast.literal_eval(x)[0] if x != '[]' else 0)\n",
    "\n",
    "# Normalize the sentiment scores to a range of 0 to 1\n",
    "df['normalized_sentiment'] = df['predictions'] / 2\n",
    "\n",
    "# Add a column to categorize the sentiment\n",
    "def categorize_sentiment(score):\n",
    "    if score == 0.0:\n",
    "        return \"Negative\"\n",
    "    elif score == 0.5:\n",
    "        return \"Neutral\"\n",
    "    else:  # score == 1.0\n",
    "        return \"Positive\"\n",
    "\n",
    "df['sentiment_category'] = df['normalized_sentiment'].apply(categorize_sentiment)\n",
    "\n",
    "# Save the updated dataframe as a new CSV file \n",
    "df.to_csv(r\"D:\\FINAL_DATA_FILES\\final_normalized_sentiment.csv\", index=False)"
   ]
  },
  {
   "cell_type": "code",
   "execution_count": null,
   "metadata": {},
   "outputs": [],
   "source": []
  }
 ],
 "metadata": {
  "kernelspec": {
   "display_name": "new_env",
   "language": "python",
   "name": "python3"
  },
  "language_info": {
   "codemirror_mode": {
    "name": "ipython",
    "version": 3
   },
   "file_extension": ".py",
   "mimetype": "text/x-python",
   "name": "python",
   "nbconvert_exporter": "python",
   "pygments_lexer": "ipython3",
   "version": "3.11.1"
  },
  "orig_nbformat": 4,
  "vscode": {
   "interpreter": {
    "hash": "3c3bc1cd2787d1d6faf4cadf512276aa1abbcebfa71dc4497537bc0fca99e0e5"
   }
  }
 },
 "nbformat": 4,
 "nbformat_minor": 2
}
