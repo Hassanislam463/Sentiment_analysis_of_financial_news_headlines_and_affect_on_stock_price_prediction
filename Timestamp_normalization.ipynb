{
 "cells": [
  {
   "cell_type": "code",
   "execution_count": 1,
   "metadata": {},
   "outputs": [
    {
     "name": "stdout",
     "output_type": "stream",
     "text": [
      "File saved to: C:\\Users\\hassa\\OneDrive\\Desktop\\Test_data_files\\final_timestamp_adjusted_1.tsv\n"
     ]
    }
   ],
   "source": [
    "import pandas as pd\n",
    "import pytz\n",
    "from datetime import datetime\n",
    "\n",
    "# Function to standardize timestamps with EST/EDT to UTC\n",
    "def standardize_timestamp_v2(timestamp_str):\n",
    "    try:\n",
    "        # Extract timezone and date-time parts from the string\n",
    "        time_zone_str = timestamp_str[-3:]\n",
    "        date_time_str = timestamp_str[:-4]\n",
    "\n",
    "        # Choose format based on presence of AM/PM\n",
    "        if 'AM' in date_time_str or 'PM' in date_time_str:\n",
    "            date_time_format = '%Y%m%d %I:%M %p'  # 12-hour format\n",
    "        else:\n",
    "            date_time_format = '%Y%m%d %H:%M'  # 24-hour format\n",
    "\n",
    "        # Set timezone information\n",
    "        if time_zone_str in ['EST', 'EDT']:\n",
    "            time_zone = pytz.timezone('America/New_York')\n",
    "        elif time_zone_str == 'UTC':\n",
    "            time_zone = pytz.utc\n",
    "        else:\n",
    "            return timestamp_str  # Return original if timezone is unrecognized\n",
    "\n",
    "        # Parse date-time string and localize it\n",
    "        date_time_obj = datetime.strptime(date_time_str, date_time_format)\n",
    "        localized_date_time = time_zone.localize(date_time_obj)\n",
    "\n",
    "        # Convert to UTC\n",
    "        utc_date_time = localized_date_time.astimezone(pytz.utc)\n",
    "        return utc_date_time.strftime('%m/%d/%Y %H:%M')  # Format to standardized form\n",
    "    except ValueError:\n",
    "        return timestamp_str  # Return original on parsing error\n",
    "\n",
    "# Function to clean and standardize timestamps\n",
    "def clean_and_standardize_timestamp(timestamp_str):\n",
    "    try:\n",
    "        # Remove extraneous characters like 'Â'\n",
    "        timestamp_str = timestamp_str.replace('Â', '')\n",
    "\n",
    "        # Extract timezone and date-time parts\n",
    "        time_zone_str = timestamp_str[-3:]\n",
    "        date_time_str = timestamp_str[:-3].strip()\n",
    "\n",
    "        # Choose format based on presence of AM/PM\n",
    "        if 'AM' in date_time_str or 'PM' in date_time_str:\n",
    "            date_time_format = '%Y%m%d %I:%M%p'  # 12-hour format\n",
    "        else:\n",
    "            date_time_format = '%Y%m%d %H:%M'  # 24-hour format\n",
    "\n",
    "        # Set timezone information\n",
    "        if time_zone_str in ['EST', 'EDT']:\n",
    "            time_zone = pytz.timezone('America/New_York')\n",
    "        elif time_zone_str == 'UTC':\n",
    "            time_zone = pytz.utc\n",
    "        else:\n",
    "            return timestamp_str  # Return original if timezone is unrecognized\n",
    "\n",
    "        # Parse and localize date-time string\n",
    "        date_time_obj = datetime.strptime(date_time_str, date_time_format)\n",
    "        localized_date_time = time_zone.localize(date_time_obj)\n",
    "\n",
    "        # Convert to UTC\n",
    "        utc_date_time = localized_date_time.astimezone(pytz.utc)\n",
    "        return utc_date_time.strftime('%m/%d/%Y %H:%M')  # Standardize format\n",
    "    except ValueError:\n",
    "        return timestamp_str  # Return original on parsing error\n",
    "\n",
    "# Load the DataFrame from TSV file\n",
    "file_path = r\"C:\\Users\\hassa\\Downloads\\Final_data.tsv\"   \n",
    "df = pd.read_csv(file_path, sep='\\t')\n",
    "\n",
    "# Apply the functions to standardize timestamps\n",
    "df['ts_utc_cleaned'] = df['ts'].apply(standardize_timestamp_v2)\n",
    "df['ts_utc_standardized'] = df['ts'].apply(clean_and_standardize_timestamp)\n",
    "\n",
    "# Merge the standardized timestamp columns\n",
    "def select_standardized_ts(row):\n",
    "    # Select UTC standardized timestamp if original is UTC, else EST/EDT\n",
    "    if \"UTC\" in row['ts']:\n",
    "        return row['ts_utc_standardized']\n",
    "    else:\n",
    "        return row['ts_utc_cleaned']\n",
    "\n",
    "# Apply the merge function\n",
    "df['ts_standardized'] = df.apply(select_standardized_ts, axis=1)\n",
    "\n",
    "# Save the final DataFrame to a new TSV file\n",
    "output_file_path = r\"C:\\Users\\hassa\\OneDrive\\Desktop\\Test_data_files\\final_timestamp_adjusted_1.tsv\"  \n",
    "df.to_csv(output_file_path, sep='\\t', index=False)\n",
    "\n",
    "print(\"File saved to:\", output_file_path)\n"
   ]
  },
  {
   "cell_type": "code",
   "execution_count": null,
   "metadata": {},
   "outputs": [],
   "source": []
  }
 ],
 "metadata": {
  "kernelspec": {
   "display_name": "Python 3",
   "language": "python",
   "name": "python3"
  },
  "language_info": {
   "codemirror_mode": {
    "name": "ipython",
    "version": 3
   },
   "file_extension": ".py",
   "mimetype": "text/x-python",
   "name": "python",
   "nbconvert_exporter": "python",
   "pygments_lexer": "ipython3",
   "version": "3.11.1"
  },
  "orig_nbformat": 4,
  "vscode": {
   "interpreter": {
    "hash": "5f5559479bc0502ef93acc77d087402bbc4b7071fe27f2c5d2768d4d16fe42f1"
   }
  }
 },
 "nbformat": 4,
 "nbformat_minor": 2
}
