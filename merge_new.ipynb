{
 "cells": [
  {
   "cell_type": "code",
   "execution_count": 1,
   "metadata": {},
   "outputs": [],
   "source": [
    "import pandas as pd\n",
    "import os"
   ]
  },
  {
   "cell_type": "code",
   "execution_count": 2,
   "metadata": {},
   "outputs": [],
   "source": [
    "\n",
    "# Specify the directory containing the CSV files\n",
    "directory_path = r\"D:\\FINAL_FILES\"\n",
    "\n",
    "# Get a list of all CSV files in the directory\n",
    "all_files = [os.path.join(directory_path, f) for f in os.listdir(directory_path) if f.endswith('.csv')]\n",
    "\n",
    "# Initialize an empty DataFrame to store the concatenated data\n",
    "concatenated_df = pd.DataFrame()\n",
    "\n",
    "# Iterate through each file and concatenate rows of all columns\n",
    "for file in all_files:\n",
    "    df = pd.read_csv(file)\n",
    "\n",
    "    # Concatenate the entire DataFrame\n",
    "    concatenated_df = pd.concat([concatenated_df, df], ignore_index=True, axis=0)\n",
    "\n",
    "# Save the final concatenated DataFrame to a new CSV file\n",
    "concatenated_df.to_csv(r\"D:\\FINAL_DATA_FILES\\final_merged_data.csv\", index=False)\n"
   ]
  },
  {
   "cell_type": "code",
   "execution_count": null,
   "metadata": {},
   "outputs": [],
   "source": []
  },
  {
   "cell_type": "code",
   "execution_count": null,
   "metadata": {},
   "outputs": [],
   "source": []
  }
 ],
 "metadata": {
  "kernelspec": {
   "display_name": "Python 3",
   "language": "python",
   "name": "python3"
  },
  "language_info": {
   "codemirror_mode": {
    "name": "ipython",
    "version": 3
   },
   "file_extension": ".py",
   "mimetype": "text/x-python",
   "name": "python",
   "nbconvert_exporter": "python",
   "pygments_lexer": "ipython3",
   "version": "3.11.1"
  },
  "orig_nbformat": 4,
  "vscode": {
   "interpreter": {
    "hash": "5f5559479bc0502ef93acc77d087402bbc4b7071fe27f2c5d2768d4d16fe42f1"
   }
  }
 },
 "nbformat": 4,
 "nbformat_minor": 2
}
